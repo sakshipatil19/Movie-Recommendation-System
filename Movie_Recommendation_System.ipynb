{
 "cells": [
  {
   "cell_type": "code",
   "execution_count": 80,
   "metadata": {},
   "outputs": [],
   "source": [
    "#Dataset link\n",
    "#https://drive.google.com/file/d/1cCkwiVv4mgfl20ntgY3n4yApcWqqZQe6/view"
   ]
  },
  {
   "cell_type": "markdown",
   "metadata": {
    "id": "O4c5qHp5woTb"
   },
   "source": [
    "Import Libraries"
   ]
  },
  {
   "cell_type": "code",
   "execution_count": 1,
   "metadata": {
    "id": "izBg4HuYrjas"
   },
   "outputs": [],
   "source": [
    "import numpy as np\n",
    "import pandas as pd\n",
    "import seaborn as sns\n",
    "import matplotlib.pyplot as plt\n",
    "import os\n",
    "import difflib\n",
    "from sklearn.feature_extraction.text import TfidfVectorizer\n",
    "from sklearn.metrics.pairwise import cosine_similarity"
   ]
  },
  {
   "cell_type": "markdown",
   "metadata": {
    "id": "iEYXpBSiw08z"
   },
   "source": [
    "Importing Dataset"
   ]
  },
  {
   "cell_type": "code",
   "execution_count": 2,
   "metadata": {
    "colab": {
     "base_uri": "https://localhost:8080/",
     "height": 802
    },
    "id": "2TBZ7t7cr8Ky",
    "outputId": "0a0982c5-2fdb-469f-8263-869e7c6742d6"
   },
   "outputs": [
    {
     "data": {
      "text/html": [
       "<div>\n",
       "<style scoped>\n",
       "    .dataframe tbody tr th:only-of-type {\n",
       "        vertical-align: middle;\n",
       "    }\n",
       "\n",
       "    .dataframe tbody tr th {\n",
       "        vertical-align: top;\n",
       "    }\n",
       "\n",
       "    .dataframe thead th {\n",
       "        text-align: right;\n",
       "    }\n",
       "</style>\n",
       "<table border=\"1\" class=\"dataframe\">\n",
       "  <thead>\n",
       "    <tr style=\"text-align: right;\">\n",
       "      <th></th>\n",
       "      <th>id</th>\n",
       "      <th>title</th>\n",
       "      <th>genres</th>\n",
       "      <th>original_language</th>\n",
       "      <th>overview</th>\n",
       "      <th>popularity</th>\n",
       "      <th>production_companies</th>\n",
       "      <th>release_date</th>\n",
       "      <th>budget</th>\n",
       "      <th>revenue</th>\n",
       "      <th>runtime</th>\n",
       "      <th>status</th>\n",
       "      <th>tagline</th>\n",
       "      <th>vote_average</th>\n",
       "      <th>vote_count</th>\n",
       "      <th>credits</th>\n",
       "      <th>keywords</th>\n",
       "      <th>poster_path</th>\n",
       "      <th>backdrop_path</th>\n",
       "      <th>recommendations</th>\n",
       "    </tr>\n",
       "  </thead>\n",
       "  <tbody>\n",
       "    <tr>\n",
       "      <th>0</th>\n",
       "      <td>631842</td>\n",
       "      <td>Knock at the Cabin</td>\n",
       "      <td>Horror-Mystery-Thriller</td>\n",
       "      <td>en</td>\n",
       "      <td>While vacationing at a remote cabin a young gi...</td>\n",
       "      <td>3422.537</td>\n",
       "      <td>Blinding Edge Pictures-Universal Pictures-Film...</td>\n",
       "      <td>2023-02-01</td>\n",
       "      <td>20000000.0</td>\n",
       "      <td>52000000.0</td>\n",
       "      <td>100.0</td>\n",
       "      <td>Released</td>\n",
       "      <td>Save your family or save humanity. Make the ch...</td>\n",
       "      <td>6.457</td>\n",
       "      <td>888.0</td>\n",
       "      <td>Dave Bautista-Jonathan Groff-Ben Aldridge-Kris...</td>\n",
       "      <td>based on novel or book-sacrifice-cabin-faith-e...</td>\n",
       "      <td>/dm06L9pxDOL9jNSK4Cb6y139rrG.jpg</td>\n",
       "      <td>/zWDMQX0sPaW2u0N2pJaYA8bVVaJ.jpg</td>\n",
       "      <td>1058949-646389-772515-505642-143970-667216-104...</td>\n",
       "    </tr>\n",
       "    <tr>\n",
       "      <th>1</th>\n",
       "      <td>646389</td>\n",
       "      <td>Plane</td>\n",
       "      <td>Action-Adventure-Thriller</td>\n",
       "      <td>en</td>\n",
       "      <td>After a heroic job of successfully landing his...</td>\n",
       "      <td>2618.646</td>\n",
       "      <td>MadRiver Pictures-Di Bonaventura Pictures-G-BA...</td>\n",
       "      <td>2023-01-12</td>\n",
       "      <td>25000000.0</td>\n",
       "      <td>51000000.0</td>\n",
       "      <td>107.0</td>\n",
       "      <td>Released</td>\n",
       "      <td>Survive together or die alone.</td>\n",
       "      <td>6.901</td>\n",
       "      <td>785.0</td>\n",
       "      <td>Gerard Butler-Mike Colter-Yoson An-Tony Goldwy...</td>\n",
       "      <td>pilot-airplane-philippines-held hostage-plane ...</td>\n",
       "      <td>/qi9r5xBgcc9KTxlOLjssEbDgO0J.jpg</td>\n",
       "      <td>/9Rq14Eyrf7Tu1xk0Pl7VcNbNh1n.jpg</td>\n",
       "      <td>505642-758769-864692-631842-1058949-925943-758...</td>\n",
       "    </tr>\n",
       "    <tr>\n",
       "      <th>2</th>\n",
       "      <td>315162</td>\n",
       "      <td>Puss in Boots: The Last Wish</td>\n",
       "      <td>Animation-Adventure-Comedy-Family</td>\n",
       "      <td>en</td>\n",
       "      <td>Puss in Boots discovers that his passion for a...</td>\n",
       "      <td>2589.341</td>\n",
       "      <td>DreamWorks Animation-Universal Pictures</td>\n",
       "      <td>2022-12-07</td>\n",
       "      <td>90000000.0</td>\n",
       "      <td>442000000.0</td>\n",
       "      <td>103.0</td>\n",
       "      <td>Released</td>\n",
       "      <td>Say hola to his little friends.</td>\n",
       "      <td>8.402</td>\n",
       "      <td>4357.0</td>\n",
       "      <td>Antonio Banderas-Salma Hayek-Harvey Guillén-Wa...</td>\n",
       "      <td>fairy tale-talking dog-spin off-aftercreditsst...</td>\n",
       "      <td>/kuf6dutpsT0vSVehic3EZIqkOBt.jpg</td>\n",
       "      <td>/b1Y8SUb12gPHCSSSNlbX4nB3IKy.jpg</td>\n",
       "      <td>536554-76600-816904-653851-899112-985335-83078...</td>\n",
       "    </tr>\n",
       "    <tr>\n",
       "      <th>3</th>\n",
       "      <td>505642</td>\n",
       "      <td>Black Panther: Wakanda Forever</td>\n",
       "      <td>Action-Adventure-Science Fiction</td>\n",
       "      <td>en</td>\n",
       "      <td>Queen Ramonda Shuri M’Baku Okoye and the Dora ...</td>\n",
       "      <td>2525.408</td>\n",
       "      <td>Marvel Studios</td>\n",
       "      <td>2022-11-09</td>\n",
       "      <td>250000000.0</td>\n",
       "      <td>858535561.0</td>\n",
       "      <td>162.0</td>\n",
       "      <td>Released</td>\n",
       "      <td>Forever.</td>\n",
       "      <td>7.338</td>\n",
       "      <td>3922.0</td>\n",
       "      <td>Letitia Wright-Lupita Nyong'o-Danai Gurira-Win...</td>\n",
       "      <td>loss of loved one-hero-sequel-superhero-based ...</td>\n",
       "      <td>/sv1xJUazXeYqALzczSZ3O6nkH75.jpg</td>\n",
       "      <td>/xDMIl84Qo5Tsu62c9DGWhmPI67A.jpg</td>\n",
       "      <td>436270-829280-76600-56969-312634-1037858-238-5...</td>\n",
       "    </tr>\n",
       "    <tr>\n",
       "      <th>4</th>\n",
       "      <td>956101</td>\n",
       "      <td>The Eighth Clause</td>\n",
       "      <td>Thriller</td>\n",
       "      <td>la</td>\n",
       "      <td>Kat and Borja appear to be a perfect couple bu...</td>\n",
       "      <td>2259.303</td>\n",
       "      <td>SDB Films-El Hombre Orquesta</td>\n",
       "      <td>2022-04-29</td>\n",
       "      <td>0.0</td>\n",
       "      <td>0.0</td>\n",
       "      <td>0.0</td>\n",
       "      <td>Released</td>\n",
       "      <td>NaN</td>\n",
       "      <td>4.600</td>\n",
       "      <td>10.0</td>\n",
       "      <td>Maite Perroni-Manuel Vega-Óscar Jaenada-Jessic...</td>\n",
       "      <td>NaN</td>\n",
       "      <td>/8tc8eMFAX2SDC1TRu987qFQy8Cl.jpg</td>\n",
       "      <td>/kLnqNE9Af5QHyvUxw8cDGhF1ilv.jpg</td>\n",
       "      <td>NaN</td>\n",
       "    </tr>\n",
       "  </tbody>\n",
       "</table>\n",
       "</div>"
      ],
      "text/plain": [
       "       id                           title                             genres  \\\n",
       "0  631842              Knock at the Cabin            Horror-Mystery-Thriller   \n",
       "1  646389                           Plane          Action-Adventure-Thriller   \n",
       "2  315162    Puss in Boots: The Last Wish  Animation-Adventure-Comedy-Family   \n",
       "3  505642  Black Panther: Wakanda Forever   Action-Adventure-Science Fiction   \n",
       "4  956101               The Eighth Clause                           Thriller   \n",
       "\n",
       "  original_language                                           overview  \\\n",
       "0                en  While vacationing at a remote cabin a young gi...   \n",
       "1                en  After a heroic job of successfully landing his...   \n",
       "2                en  Puss in Boots discovers that his passion for a...   \n",
       "3                en  Queen Ramonda Shuri M’Baku Okoye and the Dora ...   \n",
       "4                la  Kat and Borja appear to be a perfect couple bu...   \n",
       "\n",
       "   popularity                               production_companies release_date  \\\n",
       "0    3422.537  Blinding Edge Pictures-Universal Pictures-Film...   2023-02-01   \n",
       "1    2618.646  MadRiver Pictures-Di Bonaventura Pictures-G-BA...   2023-01-12   \n",
       "2    2589.341            DreamWorks Animation-Universal Pictures   2022-12-07   \n",
       "3    2525.408                                     Marvel Studios   2022-11-09   \n",
       "4    2259.303                       SDB Films-El Hombre Orquesta   2022-04-29   \n",
       "\n",
       "        budget      revenue  runtime    status  \\\n",
       "0   20000000.0   52000000.0    100.0  Released   \n",
       "1   25000000.0   51000000.0    107.0  Released   \n",
       "2   90000000.0  442000000.0    103.0  Released   \n",
       "3  250000000.0  858535561.0    162.0  Released   \n",
       "4          0.0          0.0      0.0  Released   \n",
       "\n",
       "                                             tagline  vote_average  \\\n",
       "0  Save your family or save humanity. Make the ch...         6.457   \n",
       "1                     Survive together or die alone.         6.901   \n",
       "2                    Say hola to his little friends.         8.402   \n",
       "3                                           Forever.         7.338   \n",
       "4                                                NaN         4.600   \n",
       "\n",
       "   vote_count                                            credits  \\\n",
       "0       888.0  Dave Bautista-Jonathan Groff-Ben Aldridge-Kris...   \n",
       "1       785.0  Gerard Butler-Mike Colter-Yoson An-Tony Goldwy...   \n",
       "2      4357.0  Antonio Banderas-Salma Hayek-Harvey Guillén-Wa...   \n",
       "3      3922.0  Letitia Wright-Lupita Nyong'o-Danai Gurira-Win...   \n",
       "4        10.0  Maite Perroni-Manuel Vega-Óscar Jaenada-Jessic...   \n",
       "\n",
       "                                            keywords  \\\n",
       "0  based on novel or book-sacrifice-cabin-faith-e...   \n",
       "1  pilot-airplane-philippines-held hostage-plane ...   \n",
       "2  fairy tale-talking dog-spin off-aftercreditsst...   \n",
       "3  loss of loved one-hero-sequel-superhero-based ...   \n",
       "4                                                NaN   \n",
       "\n",
       "                        poster_path                     backdrop_path  \\\n",
       "0  /dm06L9pxDOL9jNSK4Cb6y139rrG.jpg  /zWDMQX0sPaW2u0N2pJaYA8bVVaJ.jpg   \n",
       "1  /qi9r5xBgcc9KTxlOLjssEbDgO0J.jpg  /9Rq14Eyrf7Tu1xk0Pl7VcNbNh1n.jpg   \n",
       "2  /kuf6dutpsT0vSVehic3EZIqkOBt.jpg  /b1Y8SUb12gPHCSSSNlbX4nB3IKy.jpg   \n",
       "3  /sv1xJUazXeYqALzczSZ3O6nkH75.jpg  /xDMIl84Qo5Tsu62c9DGWhmPI67A.jpg   \n",
       "4  /8tc8eMFAX2SDC1TRu987qFQy8Cl.jpg  /kLnqNE9Af5QHyvUxw8cDGhF1ilv.jpg   \n",
       "\n",
       "                                     recommendations  \n",
       "0  1058949-646389-772515-505642-143970-667216-104...  \n",
       "1  505642-758769-864692-631842-1058949-925943-758...  \n",
       "2  536554-76600-816904-653851-899112-985335-83078...  \n",
       "3  436270-829280-76600-56969-312634-1037858-238-5...  \n",
       "4                                                NaN  "
      ]
     },
     "execution_count": 2,
     "metadata": {},
     "output_type": "execute_result"
    }
   ],
   "source": [
    "movies_data = pd.read_csv('updated_movie.csv')\n",
    "movies_data.head()"
   ]
  },
  {
   "cell_type": "code",
   "execution_count": 3,
   "metadata": {
    "colab": {
     "base_uri": "https://localhost:8080/",
     "height": 239
    },
    "id": "5HOUJUwxO88b",
    "outputId": "bcbbd424-da55-44b0-a934-ff22e68cf493"
   },
   "outputs": [
    {
     "data": {
      "text/plain": [
       "<BarContainer object of 25 artists>"
      ]
     },
     "execution_count": 3,
     "metadata": {},
     "output_type": "execute_result"
    },
    {
     "data": {
      "image/png": "[encoded data removed]",
      "text/plain": [
       "<Figure size 3600x504 with 1 Axes>"
      ]
     },
     "metadata": {
      "needs_background": "light"
     },
     "output_type": "display_data"
    }
   ],
   "source": [
    "# Setting DataFrame\n",
    "df = pd.DataFrame(movies_data)\n",
    "\n",
    "# Setting the variables\n",
    "x_axis = df['popularity']\n",
    "y_axis = df['vote_count']\n",
    "\n",
    "# Figure Size\n",
    "from matplotlib import pyplot as plt\n",
    "fig = plt.figure(figsize =(50, 7))\n",
    "\n",
    "# Create bar graph, contingency table using any 2 features.\n",
    "plt.bar(x_axis[:25], y_axis[:25])"
   ]
  },
  {
   "cell_type": "code",
   "execution_count": 4,
   "metadata": {
    "colab": {
     "base_uri": "https://localhost:8080/",
     "height": 302
    },
    "id": "_3MFZF_mRkdR",
    "outputId": "e8082fd2-79a6-439f-92fe-46816e7b6061"
   },
   "outputs": [
    {
     "data": {
      "text/plain": [
       "<AxesSubplot:xlabel='popularity', ylabel='vote_count'>"
      ]
     },
     "execution_count": 4,
     "metadata": {},
     "output_type": "execute_result"
    },
    {
     "data": {
      "image/png": "[encoded data removed]",
      "text/plain": [
       "<Figure size 432x288 with 1 Axes>"
      ]
     },
     "metadata": {},
     "output_type": "display_data"
    }
   ],
   "source": [
    "#Plot Scatter plot using seaborn.\n",
    "sns.set(style='whitegrid')\n",
    "x_axis = df['popularity'].head(200)\n",
    "y_axis = df['vote_count'].head(200)\n",
    "sns.scatterplot(x=x_axis, y=y_axis, data=df)"
   ]
  },
  {
   "cell_type": "code",
   "execution_count": 5,
   "metadata": {
    "colab": {
     "base_uri": "https://localhost:8080/",
     "height": 518
    },
    "id": "8lGjqBV4R-TB",
    "outputId": "b6bb48db-973e-4878-e4dd-00df17db7696"
   },
   "outputs": [
    {
     "data": {
      "text/plain": [
       "(array([0, 1, 2, 3, 4, 5, 6, 7, 8, 9]),\n",
       " [Text(0, 0, '1436.445'),\n",
       "  Text(1, 0, '1440.505'),\n",
       "  Text(2, 0, '1545.382'),\n",
       "  Text(3, 0, '1627.738'),\n",
       "  Text(4, 0, '1691.825'),\n",
       "  Text(5, 0, '2259.303'),\n",
       "  Text(6, 0, '2525.408'),\n",
       "  Text(7, 0, '2589.341'),\n",
       "  Text(8, 0, '2618.646'),\n",
       "  Text(9, 0, '3422.537')])"
      ]
     },
     "execution_count": 5,
     "metadata": {},
     "output_type": "execute_result"
    },
    {
     "data": {
      "image/png": "[encoded data removed]",
      "text/plain": [
       "<Figure size 432x288 with 1 Axes>"
      ]
     },
     "metadata": {},
     "output_type": "display_data"
    }
   ],
   "source": [
    "#Plot box plot using seaborn.\n",
    "x_axis = df['popularity'].head(10)\n",
    "y_axis = df['vote_count'].head(10)\n",
    "sns.boxplot( y=y_axis, x=x_axis);\n",
    "plt.xticks(rotation = 90)"
   ]
  },
  {
   "cell_type": "code",
   "execution_count": 6,
   "metadata": {
    "colab": {
     "base_uri": "https://localhost:8080/",
     "height": 285
    },
    "id": "y8jd6VDmSKIZ",
    "outputId": "c9729d1a-b47e-44e0-aa1e-e609429f4f01"
   },
   "outputs": [
    {
     "data": {
      "image/png": "[encoded data removed]",
      "text/plain": [
       "<Figure size 432x288 with 1 Axes>"
      ]
     },
     "metadata": {},
     "output_type": "display_data"
    }
   ],
   "source": [
    "from matplotlib import pyplot as plt\n",
    "sns.histplot(df['popularity'][:50],kde = True)\n",
    "plt.show()"
   ]
  },
  {
   "cell_type": "code",
   "execution_count": 7,
   "metadata": {
    "colab": {
     "base_uri": "https://localhost:8080/",
     "height": 500
    },
    "id": "lRRnOtLETlJ8",
    "outputId": "14b3bf08-5625-4135-9860-428c3b177bbe"
   },
   "outputs": [
    {
     "data": {
      "image/png": "[encoded data removed]",
      "text/plain": [
       "<Figure size 720x504 with 2 Axes>"
      ]
     },
     "metadata": {},
     "output_type": "display_data"
    }
   ],
   "source": [
    "#Heatmap\n",
    "sns.set(rc={\"figure.figsize\":(10,7)})\n",
    "sns.heatmap(df.corr(),annot=True,cmap=\"coolwarm\")\n",
    "plt.show()"
   ]
  },
  {
   "cell_type": "code",
   "execution_count": 8,
   "metadata": {
    "colab": {
     "base_uri": "https://localhost:8080/"
    },
    "id": "Mx3K5jz7JT8r",
    "outputId": "8f73a11f-da1f-4dd5-fb93-926f94541c43"
   },
   "outputs": [
    {
     "data": {
      "text/plain": [
       "(723013, 20)"
      ]
     },
     "execution_count": 8,
     "metadata": {},
     "output_type": "execute_result"
    }
   ],
   "source": [
    "movies_data.shape"
   ]
  },
  {
   "cell_type": "code",
   "execution_count": 9,
   "metadata": {},
   "outputs": [],
   "source": [
    "#id,title,overview,genres,keywords"
   ]
  },
  {
   "cell_type": "code",
   "execution_count": 10,
   "metadata": {},
   "outputs": [],
   "source": [
    "movies = movies_data[['id','title','genres','production_companies','tagline','keywords','poster_path']]"
   ]
  },
  {
   "cell_type": "code",
   "execution_count": 11,
   "metadata": {},
   "outputs": [
    {
     "name": "stderr",
     "output_type": "stream",
     "text": [
      "C:\\Users\\Sakshi\\AppData\\Local\\Temp\\ipykernel_22112\\3786870272.py:1: SettingWithCopyWarning: \n",
      "A value is trying to be set on a copy of a slice from a DataFrame\n",
      "\n",
      "See the caveats in the documentation: https://pandas.pydata.org/pandas-docs/stable/user_guide/indexing.html#returning-a-view-versus-a-copy\n",
      "  movies.dropna(inplace=True)\n"
     ]
    }
   ],
   "source": [
    "movies.dropna(inplace=True)"
   ]
  },
  {
   "cell_type": "code",
   "execution_count": 12,
   "metadata": {},
   "outputs": [
    {
     "data": {
      "text/html": [
       "<div>\n",
       "<style scoped>\n",
       "    .dataframe tbody tr th:only-of-type {\n",
       "        vertical-align: middle;\n",
       "    }\n",
       "\n",
       "    .dataframe tbody tr th {\n",
       "        vertical-align: top;\n",
       "    }\n",
       "\n",
       "    .dataframe thead th {\n",
       "        text-align: right;\n",
       "    }\n",
       "</style>\n",
       "<table border=\"1\" class=\"dataframe\">\n",
       "  <thead>\n",
       "    <tr style=\"text-align: right;\">\n",
       "      <th></th>\n",
       "      <th>id</th>\n",
       "      <th>title</th>\n",
       "      <th>genres</th>\n",
       "      <th>production_companies</th>\n",
       "      <th>tagline</th>\n",
       "      <th>keywords</th>\n",
       "      <th>poster_path</th>\n",
       "    </tr>\n",
       "  </thead>\n",
       "  <tbody>\n",
       "    <tr>\n",
       "      <th>0</th>\n",
       "      <td>631842</td>\n",
       "      <td>Knock at the Cabin</td>\n",
       "      <td>Horror-Mystery-Thriller</td>\n",
       "      <td>Blinding Edge Pictures-Universal Pictures-Film...</td>\n",
       "      <td>Save your family or save humanity. Make the ch...</td>\n",
       "      <td>based on novel or book-sacrifice-cabin-faith-e...</td>\n",
       "      <td>/dm06L9pxDOL9jNSK4Cb6y139rrG.jpg</td>\n",
       "    </tr>\n",
       "    <tr>\n",
       "      <th>1</th>\n",
       "      <td>646389</td>\n",
       "      <td>Plane</td>\n",
       "      <td>Action-Adventure-Thriller</td>\n",
       "      <td>MadRiver Pictures-Di Bonaventura Pictures-G-BA...</td>\n",
       "      <td>Survive together or die alone.</td>\n",
       "      <td>pilot-airplane-philippines-held hostage-plane ...</td>\n",
       "      <td>/qi9r5xBgcc9KTxlOLjssEbDgO0J.jpg</td>\n",
       "    </tr>\n",
       "    <tr>\n",
       "      <th>2</th>\n",
       "      <td>315162</td>\n",
       "      <td>Puss in Boots: The Last Wish</td>\n",
       "      <td>Animation-Adventure-Comedy-Family</td>\n",
       "      <td>DreamWorks Animation-Universal Pictures</td>\n",
       "      <td>Say hola to his little friends.</td>\n",
       "      <td>fairy tale-talking dog-spin off-aftercreditsst...</td>\n",
       "      <td>/kuf6dutpsT0vSVehic3EZIqkOBt.jpg</td>\n",
       "    </tr>\n",
       "    <tr>\n",
       "      <th>3</th>\n",
       "      <td>505642</td>\n",
       "      <td>Black Panther: Wakanda Forever</td>\n",
       "      <td>Action-Adventure-Science Fiction</td>\n",
       "      <td>Marvel Studios</td>\n",
       "      <td>Forever.</td>\n",
       "      <td>loss of loved one-hero-sequel-superhero-based ...</td>\n",
       "      <td>/sv1xJUazXeYqALzczSZ3O6nkH75.jpg</td>\n",
       "    </tr>\n",
       "    <tr>\n",
       "      <th>6</th>\n",
       "      <td>677179</td>\n",
       "      <td>Creed III</td>\n",
       "      <td>Drama-Action</td>\n",
       "      <td>Metro-Goldwyn-Mayer-Proximity Media-Balboa Pro...</td>\n",
       "      <td>You can't run from your past.</td>\n",
       "      <td>philadelphia pennsylvania-sequel-orphan-former...</td>\n",
       "      <td>/cvsXj3I9Q2iyyIo95AecSd1tad7.jpg</td>\n",
       "    </tr>\n",
       "  </tbody>\n",
       "</table>\n",
       "</div>"
      ],
      "text/plain": [
       "       id                           title                             genres  \\\n",
       "0  631842              Knock at the Cabin            Horror-Mystery-Thriller   \n",
       "1  646389                           Plane          Action-Adventure-Thriller   \n",
       "2  315162    Puss in Boots: The Last Wish  Animation-Adventure-Comedy-Family   \n",
       "3  505642  Black Panther: Wakanda Forever   Action-Adventure-Science Fiction   \n",
       "6  677179                       Creed III                       Drama-Action   \n",
       "\n",
       "                                production_companies  \\\n",
       "0  Blinding Edge Pictures-Universal Pictures-Film...   \n",
       "1  MadRiver Pictures-Di Bonaventura Pictures-G-BA...   \n",
       "2            DreamWorks Animation-Universal Pictures   \n",
       "3                                     Marvel Studios   \n",
       "6  Metro-Goldwyn-Mayer-Proximity Media-Balboa Pro...   \n",
       "\n",
       "                                             tagline  \\\n",
       "0  Save your family or save humanity. Make the ch...   \n",
       "1                     Survive together or die alone.   \n",
       "2                    Say hola to his little friends.   \n",
       "3                                           Forever.   \n",
       "6                      You can't run from your past.   \n",
       "\n",
       "                                            keywords  \\\n",
       "0  based on novel or book-sacrifice-cabin-faith-e...   \n",
       "1  pilot-airplane-philippines-held hostage-plane ...   \n",
       "2  fairy tale-talking dog-spin off-aftercreditsst...   \n",
       "3  loss of loved one-hero-sequel-superhero-based ...   \n",
       "6  philadelphia pennsylvania-sequel-orphan-former...   \n",
       "\n",
       "                        poster_path  \n",
       "0  /dm06L9pxDOL9jNSK4Cb6y139rrG.jpg  \n",
       "1  /qi9r5xBgcc9KTxlOLjssEbDgO0J.jpg  \n",
       "2  /kuf6dutpsT0vSVehic3EZIqkOBt.jpg  \n",
       "3  /sv1xJUazXeYqALzczSZ3O6nkH75.jpg  \n",
       "6  /cvsXj3I9Q2iyyIo95AecSd1tad7.jpg  "
      ]
     },
     "execution_count": 12,
     "metadata": {},
     "output_type": "execute_result"
    }
   ],
   "source": [
    "movies.head()"
   ]
  },
  {
   "cell_type": "code",
   "execution_count": 13,
   "metadata": {},
   "outputs": [
    {
     "data": {
      "text/plain": [
       "(49728, 7)"
      ]
     },
     "execution_count": 13,
     "metadata": {},
     "output_type": "execute_result"
    }
   ],
   "source": [
    "movies.shape"
   ]
  },
  {
   "cell_type": "code",
   "execution_count": 14,
   "metadata": {},
   "outputs": [
    {
     "data": {
      "text/plain": [
       "id                      0\n",
       "title                   0\n",
       "genres                  0\n",
       "production_companies    0\n",
       "tagline                 0\n",
       "keywords                0\n",
       "poster_path             0\n",
       "dtype: int64"
      ]
     },
     "execution_count": 14,
     "metadata": {},
     "output_type": "execute_result"
    }
   ],
   "source": [
    "movies.isnull().sum()\n"
   ]
  },
  {
   "cell_type": "code",
   "execution_count": 15,
   "metadata": {},
   "outputs": [
    {
     "data": {
      "text/plain": [
       "4006"
      ]
     },
     "execution_count": 15,
     "metadata": {},
     "output_type": "execute_result"
    }
   ],
   "source": [
    "movies.duplicated().sum()"
   ]
  },
  {
   "cell_type": "code",
   "execution_count": 16,
   "metadata": {},
   "outputs": [
    {
     "name": "stderr",
     "output_type": "stream",
     "text": [
      "C:\\Users\\Sakshi\\AppData\\Local\\Temp\\ipykernel_22112\\1441796974.py:1: SettingWithCopyWarning: \n",
      "A value is trying to be set on a copy of a slice from a DataFrame\n",
      "\n",
      "See the caveats in the documentation: https://pandas.pydata.org/pandas-docs/stable/user_guide/indexing.html#returning-a-view-versus-a-copy\n",
      "  movies.drop_duplicates(inplace=True)\n"
     ]
    }
   ],
   "source": [
    "movies.drop_duplicates(inplace=True)"
   ]
  },
  {
   "cell_type": "code",
   "execution_count": 17,
   "metadata": {},
   "outputs": [
    {
     "data": {
      "text/plain": [
       "0"
      ]
     },
     "execution_count": 17,
     "metadata": {},
     "output_type": "execute_result"
    }
   ],
   "source": [
    "movies.duplicated().sum()"
   ]
  },
  {
   "cell_type": "code",
   "execution_count": 18,
   "metadata": {},
   "outputs": [
    {
     "data": {
      "text/plain": [
       "(45722, 7)"
      ]
     },
     "execution_count": 18,
     "metadata": {},
     "output_type": "execute_result"
    }
   ],
   "source": [
    "movies.shape"
   ]
  },
  {
   "cell_type": "code",
   "execution_count": 19,
   "metadata": {},
   "outputs": [
    {
     "name": "stderr",
     "output_type": "stream",
     "text": [
      "C:\\Users\\Sakshi\\AppData\\Local\\Temp\\ipykernel_22112\\3714056063.py:1: SettingWithCopyWarning: \n",
      "A value is trying to be set on a copy of a slice from a DataFrame\n",
      "\n",
      "See the caveats in the documentation: https://pandas.pydata.org/pandas-docs/stable/user_guide/indexing.html#returning-a-view-versus-a-copy\n",
      "  movies.drop(index=movies.tail(21000).index, inplace=True)\n"
     ]
    }
   ],
   "source": [
    "movies.drop(index=movies.tail(21000).index, inplace=True)"
   ]
  },
  {
   "cell_type": "code",
   "execution_count": 20,
   "metadata": {},
   "outputs": [
    {
     "data": {
      "text/plain": [
       "(24722, 7)"
      ]
     },
     "execution_count": 20,
     "metadata": {},
     "output_type": "execute_result"
    }
   ],
   "source": [
    "movies.shape"
   ]
  },
  {
   "cell_type": "code",
   "execution_count": 21,
   "metadata": {},
   "outputs": [],
   "source": [
    "import pickle\n",
    "\n",
    "pickle.dump(movies,open('artifacts/updated_movies.pkl','wb'))"
   ]
  },
  {
   "cell_type": "code",
   "execution_count": 22,
   "metadata": {},
   "outputs": [
    {
     "name": "stderr",
     "output_type": "stream",
     "text": [
      "C:\\Users\\Sakshi\\AppData\\Local\\Temp\\ipykernel_22112\\2075860557.py:5: SettingWithCopyWarning: \n",
      "A value is trying to be set on a copy of a slice from a DataFrame.\n",
      "Try using .loc[row_indexer,col_indexer] = value instead\n",
      "\n",
      "See the caveats in the documentation: https://pandas.pydata.org/pandas-docs/stable/user_guide/indexing.html#returning-a-view-versus-a-copy\n",
      "  movies['genres'] = movies['genres'].apply(split_genres)\n",
      "C:\\Users\\Sakshi\\AppData\\Local\\Temp\\ipykernel_22112\\2075860557.py:6: SettingWithCopyWarning: \n",
      "A value is trying to be set on a copy of a slice from a DataFrame.\n",
      "Try using .loc[row_indexer,col_indexer] = value instead\n",
      "\n",
      "See the caveats in the documentation: https://pandas.pydata.org/pandas-docs/stable/user_guide/indexing.html#returning-a-view-versus-a-copy\n",
      "  movies['production_companies'] = movies['production_companies'].apply(split_genres)\n",
      "C:\\Users\\Sakshi\\AppData\\Local\\Temp\\ipykernel_22112\\2075860557.py:7: SettingWithCopyWarning: \n",
      "A value is trying to be set on a copy of a slice from a DataFrame.\n",
      "Try using .loc[row_indexer,col_indexer] = value instead\n",
      "\n",
      "See the caveats in the documentation: https://pandas.pydata.org/pandas-docs/stable/user_guide/indexing.html#returning-a-view-versus-a-copy\n",
      "  movies['keywords'] = movies['keywords'].apply(split_genres)\n"
     ]
    }
   ],
   "source": [
    "def split_genres(genre_string):\n",
    "    return genre_string.split(\"-\")\n",
    "\n",
    "# Apply the function to the genres column\n",
    "movies['genres'] = movies['genres'].apply(split_genres)\n",
    "movies['production_companies'] = movies['production_companies'].apply(split_genres)\n",
    "movies['keywords'] = movies['keywords'].apply(split_genres)\n"
   ]
  },
  {
   "cell_type": "code",
   "execution_count": 23,
   "metadata": {},
   "outputs": [
    {
     "name": "stderr",
     "output_type": "stream",
     "text": [
      "C:\\Users\\Sakshi\\AppData\\Local\\Temp\\ipykernel_22112\\3642291318.py:6: SettingWithCopyWarning: \n",
      "A value is trying to be set on a copy of a slice from a DataFrame.\n",
      "Try using .loc[row_indexer,col_indexer] = value instead\n",
      "\n",
      "See the caveats in the documentation: https://pandas.pydata.org/pandas-docs/stable/user_guide/indexing.html#returning-a-view-versus-a-copy\n",
      "  movies['tagline'] = movies['tagline'].apply(split_tagline)\n"
     ]
    }
   ],
   "source": [
    "\n",
    "# Define a function to split the tagline string into a list of words\n",
    "def split_tagline(tagline_string):\n",
    "    return tagline_string.split()\n",
    "\n",
    "# Apply the function to the tagline column\n",
    "movies['tagline'] = movies['tagline'].apply(split_tagline)"
   ]
  },
  {
   "cell_type": "code",
   "execution_count": 24,
   "metadata": {},
   "outputs": [
    {
     "data": {
      "text/html": [
       "<div>\n",
       "<style scoped>\n",
       "    .dataframe tbody tr th:only-of-type {\n",
       "        vertical-align: middle;\n",
       "    }\n",
       "\n",
       "    .dataframe tbody tr th {\n",
       "        vertical-align: top;\n",
       "    }\n",
       "\n",
       "    .dataframe thead th {\n",
       "        text-align: right;\n",
       "    }\n",
       "</style>\n",
       "<table border=\"1\" class=\"dataframe\">\n",
       "  <thead>\n",
       "    <tr style=\"text-align: right;\">\n",
       "      <th></th>\n",
       "      <th>id</th>\n",
       "      <th>title</th>\n",
       "      <th>genres</th>\n",
       "      <th>production_companies</th>\n",
       "      <th>tagline</th>\n",
       "      <th>keywords</th>\n",
       "      <th>poster_path</th>\n",
       "    </tr>\n",
       "  </thead>\n",
       "  <tbody>\n",
       "    <tr>\n",
       "      <th>0</th>\n",
       "      <td>631842</td>\n",
       "      <td>Knock at the Cabin</td>\n",
       "      <td>[Horror, Mystery, Thriller]</td>\n",
       "      <td>[Blinding Edge Pictures, Universal Pictures, F...</td>\n",
       "      <td>[Save, your, family, or, save, humanity., Make...</td>\n",
       "      <td>[based on novel or book, sacrifice, cabin, fai...</td>\n",
       "      <td>/dm06L9pxDOL9jNSK4Cb6y139rrG.jpg</td>\n",
       "    </tr>\n",
       "    <tr>\n",
       "      <th>1</th>\n",
       "      <td>646389</td>\n",
       "      <td>Plane</td>\n",
       "      <td>[Action, Adventure, Thriller]</td>\n",
       "      <td>[MadRiver Pictures, Di Bonaventura Pictures, G...</td>\n",
       "      <td>[Survive, together, or, die, alone.]</td>\n",
       "      <td>[pilot, airplane, philippines, held hostage, p...</td>\n",
       "      <td>/qi9r5xBgcc9KTxlOLjssEbDgO0J.jpg</td>\n",
       "    </tr>\n",
       "    <tr>\n",
       "      <th>2</th>\n",
       "      <td>315162</td>\n",
       "      <td>Puss in Boots: The Last Wish</td>\n",
       "      <td>[Animation, Adventure, Comedy, Family]</td>\n",
       "      <td>[DreamWorks Animation, Universal Pictures]</td>\n",
       "      <td>[Say, hola, to, his, little, friends.]</td>\n",
       "      <td>[fairy tale, talking dog, spin off, aftercredi...</td>\n",
       "      <td>/kuf6dutpsT0vSVehic3EZIqkOBt.jpg</td>\n",
       "    </tr>\n",
       "    <tr>\n",
       "      <th>3</th>\n",
       "      <td>505642</td>\n",
       "      <td>Black Panther: Wakanda Forever</td>\n",
       "      <td>[Action, Adventure, Science Fiction]</td>\n",
       "      <td>[Marvel Studios]</td>\n",
       "      <td>[Forever.]</td>\n",
       "      <td>[loss of loved one, hero, sequel, superhero, b...</td>\n",
       "      <td>/sv1xJUazXeYqALzczSZ3O6nkH75.jpg</td>\n",
       "    </tr>\n",
       "    <tr>\n",
       "      <th>6</th>\n",
       "      <td>677179</td>\n",
       "      <td>Creed III</td>\n",
       "      <td>[Drama, Action]</td>\n",
       "      <td>[Metro, Goldwyn, Mayer, Proximity Media, Balbo...</td>\n",
       "      <td>[You, can't, run, from, your, past.]</td>\n",
       "      <td>[philadelphia pennsylvania, sequel, orphan, fo...</td>\n",
       "      <td>/cvsXj3I9Q2iyyIo95AecSd1tad7.jpg</td>\n",
       "    </tr>\n",
       "  </tbody>\n",
       "</table>\n",
       "</div>"
      ],
      "text/plain": [
       "       id                           title  \\\n",
       "0  631842              Knock at the Cabin   \n",
       "1  646389                           Plane   \n",
       "2  315162    Puss in Boots: The Last Wish   \n",
       "3  505642  Black Panther: Wakanda Forever   \n",
       "6  677179                       Creed III   \n",
       "\n",
       "                                   genres  \\\n",
       "0             [Horror, Mystery, Thriller]   \n",
       "1           [Action, Adventure, Thriller]   \n",
       "2  [Animation, Adventure, Comedy, Family]   \n",
       "3    [Action, Adventure, Science Fiction]   \n",
       "6                         [Drama, Action]   \n",
       "\n",
       "                                production_companies  \\\n",
       "0  [Blinding Edge Pictures, Universal Pictures, F...   \n",
       "1  [MadRiver Pictures, Di Bonaventura Pictures, G...   \n",
       "2         [DreamWorks Animation, Universal Pictures]   \n",
       "3                                   [Marvel Studios]   \n",
       "6  [Metro, Goldwyn, Mayer, Proximity Media, Balbo...   \n",
       "\n",
       "                                             tagline  \\\n",
       "0  [Save, your, family, or, save, humanity., Make...   \n",
       "1               [Survive, together, or, die, alone.]   \n",
       "2             [Say, hola, to, his, little, friends.]   \n",
       "3                                         [Forever.]   \n",
       "6               [You, can't, run, from, your, past.]   \n",
       "\n",
       "                                            keywords  \\\n",
       "0  [based on novel or book, sacrifice, cabin, fai...   \n",
       "1  [pilot, airplane, philippines, held hostage, p...   \n",
       "2  [fairy tale, talking dog, spin off, aftercredi...   \n",
       "3  [loss of loved one, hero, sequel, superhero, b...   \n",
       "6  [philadelphia pennsylvania, sequel, orphan, fo...   \n",
       "\n",
       "                        poster_path  \n",
       "0  /dm06L9pxDOL9jNSK4Cb6y139rrG.jpg  \n",
       "1  /qi9r5xBgcc9KTxlOLjssEbDgO0J.jpg  \n",
       "2  /kuf6dutpsT0vSVehic3EZIqkOBt.jpg  \n",
       "3  /sv1xJUazXeYqALzczSZ3O6nkH75.jpg  \n",
       "6  /cvsXj3I9Q2iyyIo95AecSd1tad7.jpg  "
      ]
     },
     "execution_count": 24,
     "metadata": {},
     "output_type": "execute_result"
    }
   ],
   "source": [
    "movies.head()"
   ]
  },
  {
   "cell_type": "code",
   "execution_count": 25,
   "metadata": {},
   "outputs": [],
   "source": [
    "def remove_space(word):\n",
    "    l=[]\n",
    "    for i in word:\n",
    "        l.append(i.replace(\" \",\"\"))\n",
    "    return l"
   ]
  },
  {
   "cell_type": "code",
   "execution_count": 26,
   "metadata": {},
   "outputs": [
    {
     "name": "stderr",
     "output_type": "stream",
     "text": [
      "C:\\Users\\Sakshi\\AppData\\Local\\Temp\\ipykernel_22112\\3681893778.py:1: SettingWithCopyWarning: \n",
      "A value is trying to be set on a copy of a slice from a DataFrame.\n",
      "Try using .loc[row_indexer,col_indexer] = value instead\n",
      "\n",
      "See the caveats in the documentation: https://pandas.pydata.org/pandas-docs/stable/user_guide/indexing.html#returning-a-view-versus-a-copy\n",
      "  movies['genres'] = movies['genres'].apply(remove_space)\n",
      "C:\\Users\\Sakshi\\AppData\\Local\\Temp\\ipykernel_22112\\3681893778.py:2: SettingWithCopyWarning: \n",
      "A value is trying to be set on a copy of a slice from a DataFrame.\n",
      "Try using .loc[row_indexer,col_indexer] = value instead\n",
      "\n",
      "See the caveats in the documentation: https://pandas.pydata.org/pandas-docs/stable/user_guide/indexing.html#returning-a-view-versus-a-copy\n",
      "  movies['production_companies'] = movies['production_companies'].apply(remove_space)\n",
      "C:\\Users\\Sakshi\\AppData\\Local\\Temp\\ipykernel_22112\\3681893778.py:3: SettingWithCopyWarning: \n",
      "A value is trying to be set on a copy of a slice from a DataFrame.\n",
      "Try using .loc[row_indexer,col_indexer] = value instead\n",
      "\n",
      "See the caveats in the documentation: https://pandas.pydata.org/pandas-docs/stable/user_guide/indexing.html#returning-a-view-versus-a-copy\n",
      "  movies['keywords'] = movies['keywords'].apply(remove_space)\n",
      "C:\\Users\\Sakshi\\AppData\\Local\\Temp\\ipykernel_22112\\3681893778.py:4: SettingWithCopyWarning: \n",
      "A value is trying to be set on a copy of a slice from a DataFrame.\n",
      "Try using .loc[row_indexer,col_indexer] = value instead\n",
      "\n",
      "See the caveats in the documentation: https://pandas.pydata.org/pandas-docs/stable/user_guide/indexing.html#returning-a-view-versus-a-copy\n",
      "  movies['tagline'] = movies['tagline'].apply(remove_space)\n"
     ]
    }
   ],
   "source": [
    "movies['genres'] = movies['genres'].apply(remove_space)\n",
    "movies['production_companies'] = movies['production_companies'].apply(remove_space)\n",
    "movies['keywords'] = movies['keywords'].apply(remove_space)\n",
    "movies['tagline'] = movies['tagline'].apply(remove_space)"
   ]
  },
  {
   "cell_type": "code",
   "execution_count": 27,
   "metadata": {},
   "outputs": [
    {
     "data": {
      "text/html": [
       "<div>\n",
       "<style scoped>\n",
       "    .dataframe tbody tr th:only-of-type {\n",
       "        vertical-align: middle;\n",
       "    }\n",
       "\n",
       "    .dataframe tbody tr th {\n",
       "        vertical-align: top;\n",
       "    }\n",
       "\n",
       "    .dataframe thead th {\n",
       "        text-align: right;\n",
       "    }\n",
       "</style>\n",
       "<table border=\"1\" class=\"dataframe\">\n",
       "  <thead>\n",
       "    <tr style=\"text-align: right;\">\n",
       "      <th></th>\n",
       "      <th>id</th>\n",
       "      <th>title</th>\n",
       "      <th>genres</th>\n",
       "      <th>production_companies</th>\n",
       "      <th>tagline</th>\n",
       "      <th>keywords</th>\n",
       "      <th>poster_path</th>\n",
       "    </tr>\n",
       "  </thead>\n",
       "  <tbody>\n",
       "    <tr>\n",
       "      <th>0</th>\n",
       "      <td>631842</td>\n",
       "      <td>Knock at the Cabin</td>\n",
       "      <td>[Horror, Mystery, Thriller]</td>\n",
       "      <td>[BlindingEdgePictures, UniversalPictures, Film...</td>\n",
       "      <td>[Save, your, family, or, save, humanity., Make...</td>\n",
       "      <td>[basedonnovelorbook, sacrifice, cabin, faith, ...</td>\n",
       "      <td>/dm06L9pxDOL9jNSK4Cb6y139rrG.jpg</td>\n",
       "    </tr>\n",
       "    <tr>\n",
       "      <th>1</th>\n",
       "      <td>646389</td>\n",
       "      <td>Plane</td>\n",
       "      <td>[Action, Adventure, Thriller]</td>\n",
       "      <td>[MadRiverPictures, DiBonaventuraPictures, G, B...</td>\n",
       "      <td>[Survive, together, or, die, alone.]</td>\n",
       "      <td>[pilot, airplane, philippines, heldhostage, pl...</td>\n",
       "      <td>/qi9r5xBgcc9KTxlOLjssEbDgO0J.jpg</td>\n",
       "    </tr>\n",
       "    <tr>\n",
       "      <th>2</th>\n",
       "      <td>315162</td>\n",
       "      <td>Puss in Boots: The Last Wish</td>\n",
       "      <td>[Animation, Adventure, Comedy, Family]</td>\n",
       "      <td>[DreamWorksAnimation, UniversalPictures]</td>\n",
       "      <td>[Say, hola, to, his, little, friends.]</td>\n",
       "      <td>[fairytale, talkingdog, spinoff, aftercreditss...</td>\n",
       "      <td>/kuf6dutpsT0vSVehic3EZIqkOBt.jpg</td>\n",
       "    </tr>\n",
       "    <tr>\n",
       "      <th>3</th>\n",
       "      <td>505642</td>\n",
       "      <td>Black Panther: Wakanda Forever</td>\n",
       "      <td>[Action, Adventure, ScienceFiction]</td>\n",
       "      <td>[MarvelStudios]</td>\n",
       "      <td>[Forever.]</td>\n",
       "      <td>[lossoflovedone, hero, sequel, superhero, base...</td>\n",
       "      <td>/sv1xJUazXeYqALzczSZ3O6nkH75.jpg</td>\n",
       "    </tr>\n",
       "    <tr>\n",
       "      <th>6</th>\n",
       "      <td>677179</td>\n",
       "      <td>Creed III</td>\n",
       "      <td>[Drama, Action]</td>\n",
       "      <td>[Metro, Goldwyn, Mayer, ProximityMedia, Balboa...</td>\n",
       "      <td>[You, can't, run, from, your, past.]</td>\n",
       "      <td>[philadelphiapennsylvania, sequel, orphan, for...</td>\n",
       "      <td>/cvsXj3I9Q2iyyIo95AecSd1tad7.jpg</td>\n",
       "    </tr>\n",
       "  </tbody>\n",
       "</table>\n",
       "</div>"
      ],
      "text/plain": [
       "       id                           title  \\\n",
       "0  631842              Knock at the Cabin   \n",
       "1  646389                           Plane   \n",
       "2  315162    Puss in Boots: The Last Wish   \n",
       "3  505642  Black Panther: Wakanda Forever   \n",
       "6  677179                       Creed III   \n",
       "\n",
       "                                   genres  \\\n",
       "0             [Horror, Mystery, Thriller]   \n",
       "1           [Action, Adventure, Thriller]   \n",
       "2  [Animation, Adventure, Comedy, Family]   \n",
       "3     [Action, Adventure, ScienceFiction]   \n",
       "6                         [Drama, Action]   \n",
       "\n",
       "                                production_companies  \\\n",
       "0  [BlindingEdgePictures, UniversalPictures, Film...   \n",
       "1  [MadRiverPictures, DiBonaventuraPictures, G, B...   \n",
       "2           [DreamWorksAnimation, UniversalPictures]   \n",
       "3                                    [MarvelStudios]   \n",
       "6  [Metro, Goldwyn, Mayer, ProximityMedia, Balboa...   \n",
       "\n",
       "                                             tagline  \\\n",
       "0  [Save, your, family, or, save, humanity., Make...   \n",
       "1               [Survive, together, or, die, alone.]   \n",
       "2             [Say, hola, to, his, little, friends.]   \n",
       "3                                         [Forever.]   \n",
       "6               [You, can't, run, from, your, past.]   \n",
       "\n",
       "                                            keywords  \\\n",
       "0  [basedonnovelorbook, sacrifice, cabin, faith, ...   \n",
       "1  [pilot, airplane, philippines, heldhostage, pl...   \n",
       "2  [fairytale, talkingdog, spinoff, aftercreditss...   \n",
       "3  [lossoflovedone, hero, sequel, superhero, base...   \n",
       "6  [philadelphiapennsylvania, sequel, orphan, for...   \n",
       "\n",
       "                        poster_path  \n",
       "0  /dm06L9pxDOL9jNSK4Cb6y139rrG.jpg  \n",
       "1  /qi9r5xBgcc9KTxlOLjssEbDgO0J.jpg  \n",
       "2  /kuf6dutpsT0vSVehic3EZIqkOBt.jpg  \n",
       "3  /sv1xJUazXeYqALzczSZ3O6nkH75.jpg  \n",
       "6  /cvsXj3I9Q2iyyIo95AecSd1tad7.jpg  "
      ]
     },
     "execution_count": 27,
     "metadata": {},
     "output_type": "execute_result"
    }
   ],
   "source": [
    "movies.head()"
   ]
  },
  {
   "cell_type": "markdown",
   "metadata": {
    "id": "-bUwXijPxb3U"
   },
   "source": [
    "Selecting the relevant features for recommendation"
   ]
  },
  {
   "cell_type": "code",
   "execution_count": 28,
   "metadata": {
    "colab": {
     "base_uri": "https://localhost:8080/"
    },
    "id": "05pnI8bWuDr3",
    "outputId": "bcad687a-7c00-4d6f-bb72-de313ff9d169"
   },
   "outputs": [],
   "source": [
    "# selected_features = ['genres','production_companies','tagline','keywords']\n",
    "# print(selected_features)"
   ]
  },
  {
   "cell_type": "markdown",
   "metadata": {
    "id": "olF6YZR1xkQ8"
   },
   "source": [
    "Combining all the 5 selected features"
   ]
  },
  {
   "cell_type": "code",
   "execution_count": 29,
   "metadata": {
    "colab": {
     "base_uri": "https://localhost:8080/"
    },
    "id": "cxIqNcXLuSP7",
    "outputId": "49320723-0f10-42c2-9744-986e5349400d"
   },
   "outputs": [
    {
     "name": "stderr",
     "output_type": "stream",
     "text": [
      "C:\\Users\\Sakshi\\AppData\\Local\\Temp\\ipykernel_22112\\2242962068.py:1: SettingWithCopyWarning: \n",
      "A value is trying to be set on a copy of a slice from a DataFrame.\n",
      "Try using .loc[row_indexer,col_indexer] = value instead\n",
      "\n",
      "See the caveats in the documentation: https://pandas.pydata.org/pandas-docs/stable/user_guide/indexing.html#returning-a-view-versus-a-copy\n",
      "  movies['tags'] = movies['genres']+movies['production_companies']+movies['tagline']+movies['keywords']\n"
     ]
    },
    {
     "data": {
      "text/html": [
       "<div>\n",
       "<style scoped>\n",
       "    .dataframe tbody tr th:only-of-type {\n",
       "        vertical-align: middle;\n",
       "    }\n",
       "\n",
       "    .dataframe tbody tr th {\n",
       "        vertical-align: top;\n",
       "    }\n",
       "\n",
       "    .dataframe thead th {\n",
       "        text-align: right;\n",
       "    }\n",
       "</style>\n",
       "<table border=\"1\" class=\"dataframe\">\n",
       "  <thead>\n",
       "    <tr style=\"text-align: right;\">\n",
       "      <th></th>\n",
       "      <th>id</th>\n",
       "      <th>title</th>\n",
       "      <th>genres</th>\n",
       "      <th>production_companies</th>\n",
       "      <th>tagline</th>\n",
       "      <th>keywords</th>\n",
       "      <th>poster_path</th>\n",
       "      <th>tags</th>\n",
       "    </tr>\n",
       "  </thead>\n",
       "  <tbody>\n",
       "    <tr>\n",
       "      <th>0</th>\n",
       "      <td>631842</td>\n",
       "      <td>Knock at the Cabin</td>\n",
       "      <td>[Horror, Mystery, Thriller]</td>\n",
       "      <td>[BlindingEdgePictures, UniversalPictures, Film...</td>\n",
       "      <td>[Save, your, family, or, save, humanity., Make...</td>\n",
       "      <td>[basedonnovelorbook, sacrifice, cabin, faith, ...</td>\n",
       "      <td>/dm06L9pxDOL9jNSK4Cb6y139rrG.jpg</td>\n",
       "      <td>[Horror, Mystery, Thriller, BlindingEdgePictur...</td>\n",
       "    </tr>\n",
       "    <tr>\n",
       "      <th>1</th>\n",
       "      <td>646389</td>\n",
       "      <td>Plane</td>\n",
       "      <td>[Action, Adventure, Thriller]</td>\n",
       "      <td>[MadRiverPictures, DiBonaventuraPictures, G, B...</td>\n",
       "      <td>[Survive, together, or, die, alone.]</td>\n",
       "      <td>[pilot, airplane, philippines, heldhostage, pl...</td>\n",
       "      <td>/qi9r5xBgcc9KTxlOLjssEbDgO0J.jpg</td>\n",
       "      <td>[Action, Adventure, Thriller, MadRiverPictures...</td>\n",
       "    </tr>\n",
       "    <tr>\n",
       "      <th>2</th>\n",
       "      <td>315162</td>\n",
       "      <td>Puss in Boots: The Last Wish</td>\n",
       "      <td>[Animation, Adventure, Comedy, Family]</td>\n",
       "      <td>[DreamWorksAnimation, UniversalPictures]</td>\n",
       "      <td>[Say, hola, to, his, little, friends.]</td>\n",
       "      <td>[fairytale, talkingdog, spinoff, aftercreditss...</td>\n",
       "      <td>/kuf6dutpsT0vSVehic3EZIqkOBt.jpg</td>\n",
       "      <td>[Animation, Adventure, Comedy, Family, DreamWo...</td>\n",
       "    </tr>\n",
       "    <tr>\n",
       "      <th>3</th>\n",
       "      <td>505642</td>\n",
       "      <td>Black Panther: Wakanda Forever</td>\n",
       "      <td>[Action, Adventure, ScienceFiction]</td>\n",
       "      <td>[MarvelStudios]</td>\n",
       "      <td>[Forever.]</td>\n",
       "      <td>[lossoflovedone, hero, sequel, superhero, base...</td>\n",
       "      <td>/sv1xJUazXeYqALzczSZ3O6nkH75.jpg</td>\n",
       "      <td>[Action, Adventure, ScienceFiction, MarvelStud...</td>\n",
       "    </tr>\n",
       "    <tr>\n",
       "      <th>6</th>\n",
       "      <td>677179</td>\n",
       "      <td>Creed III</td>\n",
       "      <td>[Drama, Action]</td>\n",
       "      <td>[Metro, Goldwyn, Mayer, ProximityMedia, Balboa...</td>\n",
       "      <td>[You, can't, run, from, your, past.]</td>\n",
       "      <td>[philadelphiapennsylvania, sequel, orphan, for...</td>\n",
       "      <td>/cvsXj3I9Q2iyyIo95AecSd1tad7.jpg</td>\n",
       "      <td>[Drama, Action, Metro, Goldwyn, Mayer, Proximi...</td>\n",
       "    </tr>\n",
       "  </tbody>\n",
       "</table>\n",
       "</div>"
      ],
      "text/plain": [
       "       id                           title  \\\n",
       "0  631842              Knock at the Cabin   \n",
       "1  646389                           Plane   \n",
       "2  315162    Puss in Boots: The Last Wish   \n",
       "3  505642  Black Panther: Wakanda Forever   \n",
       "6  677179                       Creed III   \n",
       "\n",
       "                                   genres  \\\n",
       "0             [Horror, Mystery, Thriller]   \n",
       "1           [Action, Adventure, Thriller]   \n",
       "2  [Animation, Adventure, Comedy, Family]   \n",
       "3     [Action, Adventure, ScienceFiction]   \n",
       "6                         [Drama, Action]   \n",
       "\n",
       "                                production_companies  \\\n",
       "0  [BlindingEdgePictures, UniversalPictures, Film...   \n",
       "1  [MadRiverPictures, DiBonaventuraPictures, G, B...   \n",
       "2           [DreamWorksAnimation, UniversalPictures]   \n",
       "3                                    [MarvelStudios]   \n",
       "6  [Metro, Goldwyn, Mayer, ProximityMedia, Balboa...   \n",
       "\n",
       "                                             tagline  \\\n",
       "0  [Save, your, family, or, save, humanity., Make...   \n",
       "1               [Survive, together, or, die, alone.]   \n",
       "2             [Say, hola, to, his, little, friends.]   \n",
       "3                                         [Forever.]   \n",
       "6               [You, can't, run, from, your, past.]   \n",
       "\n",
       "                                            keywords  \\\n",
       "0  [basedonnovelorbook, sacrifice, cabin, faith, ...   \n",
       "1  [pilot, airplane, philippines, heldhostage, pl...   \n",
       "2  [fairytale, talkingdog, spinoff, aftercreditss...   \n",
       "3  [lossoflovedone, hero, sequel, superhero, base...   \n",
       "6  [philadelphiapennsylvania, sequel, orphan, for...   \n",
       "\n",
       "                        poster_path  \\\n",
       "0  /dm06L9pxDOL9jNSK4Cb6y139rrG.jpg   \n",
       "1  /qi9r5xBgcc9KTxlOLjssEbDgO0J.jpg   \n",
       "2  /kuf6dutpsT0vSVehic3EZIqkOBt.jpg   \n",
       "3  /sv1xJUazXeYqALzczSZ3O6nkH75.jpg   \n",
       "6  /cvsXj3I9Q2iyyIo95AecSd1tad7.jpg   \n",
       "\n",
       "                                                tags  \n",
       "0  [Horror, Mystery, Thriller, BlindingEdgePictur...  \n",
       "1  [Action, Adventure, Thriller, MadRiverPictures...  \n",
       "2  [Animation, Adventure, Comedy, Family, DreamWo...  \n",
       "3  [Action, Adventure, ScienceFiction, MarvelStud...  \n",
       "6  [Drama, Action, Metro, Goldwyn, Mayer, Proximi...  "
      ]
     },
     "execution_count": 29,
     "metadata": {},
     "output_type": "execute_result"
    }
   ],
   "source": [
    "movies['tags'] = movies['genres']+movies['production_companies']+movies['tagline']+movies['keywords']\n",
    "movies.head()"
   ]
  },
  {
   "cell_type": "code",
   "execution_count": 30,
   "metadata": {},
   "outputs": [
    {
     "data": {
      "text/plain": [
       "['Horror',\n",
       " 'Mystery',\n",
       " 'Thriller',\n",
       " 'BlindingEdgePictures',\n",
       " 'UniversalPictures',\n",
       " 'FilmNationEntertainment',\n",
       " 'Wishmore',\n",
       " 'PerfectWorldPictures',\n",
       " 'Save',\n",
       " 'your',\n",
       " 'family',\n",
       " 'or',\n",
       " 'save',\n",
       " 'humanity.',\n",
       " 'Make',\n",
       " 'the',\n",
       " 'choice.',\n",
       " 'basedonnovelorbook',\n",
       " 'sacrifice',\n",
       " 'cabin',\n",
       " 'faith',\n",
       " 'endoftheworld',\n",
       " 'apocalypse',\n",
       " 'homeinvasion',\n",
       " 'lgbt',\n",
       " 'aftercreditsstinger',\n",
       " 'adoptedchild',\n",
       " 'adopteddaughter',\n",
       " 'shotonfilm',\n",
       " 'gay',\n",
       " 'samesexrelationship',\n",
       " 'religioussymbolism']"
      ]
     },
     "execution_count": 30,
     "metadata": {},
     "output_type": "execute_result"
    }
   ],
   "source": [
    "movies.iloc[0]['tags']"
   ]
  },
  {
   "cell_type": "code",
   "execution_count": 31,
   "metadata": {},
   "outputs": [
    {
     "data": {
      "text/html": [
       "<div>\n",
       "<style scoped>\n",
       "    .dataframe tbody tr th:only-of-type {\n",
       "        vertical-align: middle;\n",
       "    }\n",
       "\n",
       "    .dataframe tbody tr th {\n",
       "        vertical-align: top;\n",
       "    }\n",
       "\n",
       "    .dataframe thead th {\n",
       "        text-align: right;\n",
       "    }\n",
       "</style>\n",
       "<table border=\"1\" class=\"dataframe\">\n",
       "  <thead>\n",
       "    <tr style=\"text-align: right;\">\n",
       "      <th></th>\n",
       "      <th>id</th>\n",
       "      <th>title</th>\n",
       "      <th>tags</th>\n",
       "    </tr>\n",
       "  </thead>\n",
       "  <tbody>\n",
       "    <tr>\n",
       "      <th>0</th>\n",
       "      <td>631842</td>\n",
       "      <td>Knock at the Cabin</td>\n",
       "      <td>[Horror, Mystery, Thriller, BlindingEdgePictur...</td>\n",
       "    </tr>\n",
       "    <tr>\n",
       "      <th>1</th>\n",
       "      <td>646389</td>\n",
       "      <td>Plane</td>\n",
       "      <td>[Action, Adventure, Thriller, MadRiverPictures...</td>\n",
       "    </tr>\n",
       "    <tr>\n",
       "      <th>2</th>\n",
       "      <td>315162</td>\n",
       "      <td>Puss in Boots: The Last Wish</td>\n",
       "      <td>[Animation, Adventure, Comedy, Family, DreamWo...</td>\n",
       "    </tr>\n",
       "    <tr>\n",
       "      <th>3</th>\n",
       "      <td>505642</td>\n",
       "      <td>Black Panther: Wakanda Forever</td>\n",
       "      <td>[Action, Adventure, ScienceFiction, MarvelStud...</td>\n",
       "    </tr>\n",
       "    <tr>\n",
       "      <th>6</th>\n",
       "      <td>677179</td>\n",
       "      <td>Creed III</td>\n",
       "      <td>[Drama, Action, Metro, Goldwyn, Mayer, Proximi...</td>\n",
       "    </tr>\n",
       "  </tbody>\n",
       "</table>\n",
       "</div>"
      ],
      "text/plain": [
       "       id                           title  \\\n",
       "0  631842              Knock at the Cabin   \n",
       "1  646389                           Plane   \n",
       "2  315162    Puss in Boots: The Last Wish   \n",
       "3  505642  Black Panther: Wakanda Forever   \n",
       "6  677179                       Creed III   \n",
       "\n",
       "                                                tags  \n",
       "0  [Horror, Mystery, Thriller, BlindingEdgePictur...  \n",
       "1  [Action, Adventure, Thriller, MadRiverPictures...  \n",
       "2  [Animation, Adventure, Comedy, Family, DreamWo...  \n",
       "3  [Action, Adventure, ScienceFiction, MarvelStud...  \n",
       "6  [Drama, Action, Metro, Goldwyn, Mayer, Proximi...  "
      ]
     },
     "execution_count": 31,
     "metadata": {},
     "output_type": "execute_result"
    }
   ],
   "source": [
    "new_df=movies[['id','title','tags']]\n",
    "new_df.head()"
   ]
  },
  {
   "cell_type": "code",
   "execution_count": 32,
   "metadata": {},
   "outputs": [
    {
     "name": "stderr",
     "output_type": "stream",
     "text": [
      "C:\\Users\\Sakshi\\AppData\\Local\\Temp\\ipykernel_22112\\3662197046.py:1: SettingWithCopyWarning: \n",
      "A value is trying to be set on a copy of a slice from a DataFrame.\n",
      "Try using .loc[row_indexer,col_indexer] = value instead\n",
      "\n",
      "See the caveats in the documentation: https://pandas.pydata.org/pandas-docs/stable/user_guide/indexing.html#returning-a-view-versus-a-copy\n",
      "  new_df['tags']=new_df['tags'].apply(lambda x:\" \".join(x))\n"
     ]
    },
    {
     "data": {
      "text/html": [
       "<div>\n",
       "<style scoped>\n",
       "    .dataframe tbody tr th:only-of-type {\n",
       "        vertical-align: middle;\n",
       "    }\n",
       "\n",
       "    .dataframe tbody tr th {\n",
       "        vertical-align: top;\n",
       "    }\n",
       "\n",
       "    .dataframe thead th {\n",
       "        text-align: right;\n",
       "    }\n",
       "</style>\n",
       "<table border=\"1\" class=\"dataframe\">\n",
       "  <thead>\n",
       "    <tr style=\"text-align: right;\">\n",
       "      <th></th>\n",
       "      <th>id</th>\n",
       "      <th>title</th>\n",
       "      <th>tags</th>\n",
       "    </tr>\n",
       "  </thead>\n",
       "  <tbody>\n",
       "    <tr>\n",
       "      <th>0</th>\n",
       "      <td>631842</td>\n",
       "      <td>Knock at the Cabin</td>\n",
       "      <td>Horror Mystery Thriller BlindingEdgePictures U...</td>\n",
       "    </tr>\n",
       "    <tr>\n",
       "      <th>1</th>\n",
       "      <td>646389</td>\n",
       "      <td>Plane</td>\n",
       "      <td>Action Adventure Thriller MadRiverPictures DiB...</td>\n",
       "    </tr>\n",
       "    <tr>\n",
       "      <th>2</th>\n",
       "      <td>315162</td>\n",
       "      <td>Puss in Boots: The Last Wish</td>\n",
       "      <td>Animation Adventure Comedy Family DreamWorksAn...</td>\n",
       "    </tr>\n",
       "    <tr>\n",
       "      <th>3</th>\n",
       "      <td>505642</td>\n",
       "      <td>Black Panther: Wakanda Forever</td>\n",
       "      <td>Action Adventure ScienceFiction MarvelStudios ...</td>\n",
       "    </tr>\n",
       "    <tr>\n",
       "      <th>6</th>\n",
       "      <td>677179</td>\n",
       "      <td>Creed III</td>\n",
       "      <td>Drama Action Metro Goldwyn Mayer ProximityMedi...</td>\n",
       "    </tr>\n",
       "  </tbody>\n",
       "</table>\n",
       "</div>"
      ],
      "text/plain": [
       "       id                           title  \\\n",
       "0  631842              Knock at the Cabin   \n",
       "1  646389                           Plane   \n",
       "2  315162    Puss in Boots: The Last Wish   \n",
       "3  505642  Black Panther: Wakanda Forever   \n",
       "6  677179                       Creed III   \n",
       "\n",
       "                                                tags  \n",
       "0  Horror Mystery Thriller BlindingEdgePictures U...  \n",
       "1  Action Adventure Thriller MadRiverPictures DiB...  \n",
       "2  Animation Adventure Comedy Family DreamWorksAn...  \n",
       "3  Action Adventure ScienceFiction MarvelStudios ...  \n",
       "6  Drama Action Metro Goldwyn Mayer ProximityMedi...  "
      ]
     },
     "execution_count": 32,
     "metadata": {},
     "output_type": "execute_result"
    }
   ],
   "source": [
    "new_df['tags']=new_df['tags'].apply(lambda x:\" \".join(x))\n",
    "new_df.head()"
   ]
  },
  {
   "cell_type": "code",
   "execution_count": 33,
   "metadata": {},
   "outputs": [
    {
     "data": {
      "text/plain": [
       "'Horror Mystery Thriller BlindingEdgePictures UniversalPictures FilmNationEntertainment Wishmore PerfectWorldPictures Save your family or save humanity. Make the choice. basedonnovelorbook sacrifice cabin faith endoftheworld apocalypse homeinvasion lgbt aftercreditsstinger adoptedchild adopteddaughter shotonfilm gay samesexrelationship religioussymbolism'"
      ]
     },
     "execution_count": 33,
     "metadata": {},
     "output_type": "execute_result"
    }
   ],
   "source": [
    "new_df.iloc[0]['tags']"
   ]
  },
  {
   "cell_type": "code",
   "execution_count": 34,
   "metadata": {},
   "outputs": [
    {
     "name": "stderr",
     "output_type": "stream",
     "text": [
      "C:\\Users\\Sakshi\\AppData\\Local\\Temp\\ipykernel_22112\\1783511216.py:2: SettingWithCopyWarning: \n",
      "A value is trying to be set on a copy of a slice from a DataFrame.\n",
      "Try using .loc[row_indexer,col_indexer] = value instead\n",
      "\n",
      "See the caveats in the documentation: https://pandas.pydata.org/pandas-docs/stable/user_guide/indexing.html#returning-a-view-versus-a-copy\n",
      "  new_df['tags'] = new_df['tags'].apply(lambda x:x.lower())\n"
     ]
    },
    {
     "data": {
      "text/html": [
       "<div>\n",
       "<style scoped>\n",
       "    .dataframe tbody tr th:only-of-type {\n",
       "        vertical-align: middle;\n",
       "    }\n",
       "\n",
       "    .dataframe tbody tr th {\n",
       "        vertical-align: top;\n",
       "    }\n",
       "\n",
       "    .dataframe thead th {\n",
       "        text-align: right;\n",
       "    }\n",
       "</style>\n",
       "<table border=\"1\" class=\"dataframe\">\n",
       "  <thead>\n",
       "    <tr style=\"text-align: right;\">\n",
       "      <th></th>\n",
       "      <th>id</th>\n",
       "      <th>title</th>\n",
       "      <th>tags</th>\n",
       "    </tr>\n",
       "  </thead>\n",
       "  <tbody>\n",
       "    <tr>\n",
       "      <th>0</th>\n",
       "      <td>631842</td>\n",
       "      <td>Knock at the Cabin</td>\n",
       "      <td>horror mystery thriller blindingedgepictures u...</td>\n",
       "    </tr>\n",
       "    <tr>\n",
       "      <th>1</th>\n",
       "      <td>646389</td>\n",
       "      <td>Plane</td>\n",
       "      <td>action adventure thriller madriverpictures dib...</td>\n",
       "    </tr>\n",
       "    <tr>\n",
       "      <th>2</th>\n",
       "      <td>315162</td>\n",
       "      <td>Puss in Boots: The Last Wish</td>\n",
       "      <td>animation adventure comedy family dreamworksan...</td>\n",
       "    </tr>\n",
       "    <tr>\n",
       "      <th>3</th>\n",
       "      <td>505642</td>\n",
       "      <td>Black Panther: Wakanda Forever</td>\n",
       "      <td>action adventure sciencefiction marvelstudios ...</td>\n",
       "    </tr>\n",
       "    <tr>\n",
       "      <th>6</th>\n",
       "      <td>677179</td>\n",
       "      <td>Creed III</td>\n",
       "      <td>drama action metro goldwyn mayer proximitymedi...</td>\n",
       "    </tr>\n",
       "  </tbody>\n",
       "</table>\n",
       "</div>"
      ],
      "text/plain": [
       "       id                           title  \\\n",
       "0  631842              Knock at the Cabin   \n",
       "1  646389                           Plane   \n",
       "2  315162    Puss in Boots: The Last Wish   \n",
       "3  505642  Black Panther: Wakanda Forever   \n",
       "6  677179                       Creed III   \n",
       "\n",
       "                                                tags  \n",
       "0  horror mystery thriller blindingedgepictures u...  \n",
       "1  action adventure thriller madriverpictures dib...  \n",
       "2  animation adventure comedy family dreamworksan...  \n",
       "3  action adventure sciencefiction marvelstudios ...  \n",
       "6  drama action metro goldwyn mayer proximitymedi...  "
      ]
     },
     "execution_count": 34,
     "metadata": {},
     "output_type": "execute_result"
    }
   ],
   "source": [
    "# Converting to lower case\n",
    "new_df['tags'] = new_df['tags'].apply(lambda x:x.lower())\n",
    "new_df.head()"
   ]
  },
  {
   "cell_type": "code",
   "execution_count": 35,
   "metadata": {},
   "outputs": [
    {
     "data": {
      "text/plain": [
       "(24722, 3)"
      ]
     },
     "execution_count": 35,
     "metadata": {},
     "output_type": "execute_result"
    }
   ],
   "source": [
    "new_df.shape"
   ]
  },
  {
   "cell_type": "code",
   "execution_count": 36,
   "metadata": {},
   "outputs": [
    {
     "name": "stdout",
     "output_type": "stream",
     "text": [
      "Requirement already satisfied: nltk in c:\\users\\sakshi\\appdata\\local\\programs\\python\\python310\\lib\\site-packages (3.8.1)\n",
      "Requirement already satisfied: tqdm in c:\\users\\sakshi\\appdata\\local\\programs\\python\\python310\\lib\\site-packages (from nltk) (4.65.0)\n",
      "Requirement already satisfied: joblib in c:\\users\\sakshi\\appdata\\local\\programs\\python\\python310\\lib\\site-packages (from nltk) (1.2.0)\n",
      "Requirement already satisfied: regex>=2021.8.3 in c:\\users\\sakshi\\appdata\\local\\programs\\python\\python310\\lib\\site-packages (from nltk) (2022.10.31)\n",
      "Requirement already satisfied: click in c:\\users\\sakshi\\appdata\\local\\programs\\python\\python310\\lib\\site-packages (from nltk) (8.0.3)\n",
      "Requirement already satisfied: colorama in c:\\users\\sakshi\\appdata\\local\\programs\\python\\python310\\lib\\site-packages (from click->nltk) (0.4.4)\n",
      "Note: you may need to restart the kernel to use updated packages.\n"
     ]
    }
   ],
   "source": [
    "pip install nltk"
   ]
  },
  {
   "cell_type": "code",
   "execution_count": 37,
   "metadata": {},
   "outputs": [],
   "source": [
    "import nltk\n",
    "from nltk.stem import PorterStemmer \n",
    "ps=PorterStemmer()"
   ]
  },
  {
   "cell_type": "code",
   "execution_count": 38,
   "metadata": {},
   "outputs": [],
   "source": [
    "def stems(text):\n",
    "    l = []\n",
    "    for i in text.split():\n",
    "        l.append(ps.stem(i))\n",
    "    \n",
    "    return \" \".join(l)"
   ]
  },
  {
   "cell_type": "code",
   "execution_count": 39,
   "metadata": {},
   "outputs": [
    {
     "name": "stderr",
     "output_type": "stream",
     "text": [
      "C:\\Users\\Sakshi\\AppData\\Local\\Temp\\ipykernel_22112\\1522715013.py:1: SettingWithCopyWarning: \n",
      "A value is trying to be set on a copy of a slice from a DataFrame.\n",
      "Try using .loc[row_indexer,col_indexer] = value instead\n",
      "\n",
      "See the caveats in the documentation: https://pandas.pydata.org/pandas-docs/stable/user_guide/indexing.html#returning-a-view-versus-a-copy\n",
      "  new_df['tags']=new_df['tags'].apply(stems)\n"
     ]
    }
   ],
   "source": [
    "new_df['tags']=new_df['tags'].apply(stems)"
   ]
  },
  {
   "cell_type": "code",
   "execution_count": 40,
   "metadata": {},
   "outputs": [
    {
     "data": {
      "text/plain": [
       "'horror mysteri thriller blindingedgepictur universalpictur filmnationentertain wishmor perfectworldpictur save your famili or save humanity. make the choice. basedonnovelorbook sacrific cabin faith endoftheworld apocalyps homeinvas lgbt aftercreditssting adoptedchild adopteddaught shotonfilm gay samesexrelationship religioussymbol'"
      ]
     },
     "execution_count": 40,
     "metadata": {},
     "output_type": "execute_result"
    }
   ],
   "source": [
    "new_df.iloc[0]['tags']"
   ]
  },
  {
   "cell_type": "code",
   "execution_count": 42,
   "metadata": {},
   "outputs": [],
   "source": [
    "# from sklearn.feature_extraction.text import CountVectorizer\n",
    "# from sklearn.feature_selection import VarianceThreshold\n",
    "# import pandas as pd\n",
    "# import numpy as np\n",
    "\n",
    "\n",
    "# # Extract the plot summaries\n",
    "# tags = new_df['tags']\n",
    "\n",
    "# # Create a CountVectorizer with default settings\n",
    "# vectorizer = CountVectorizer()\n",
    "\n",
    "# # Compute the document-term matrix\n",
    "# dtm = vectorizer.fit_transform(tags)\n",
    "\n",
    "# # Compute the variance of the word frequencies\n",
    "# variances = np.var(dtm.toarray(), axis=0)\n",
    "\n",
    "# # Compute the cumulative variance explained by the top k features\n",
    "# k = range(100, len(variances), 100)\n",
    "# cumulative_variances = [variances[:i].sum() for i in k]\n",
    "# cumulative_variances = [v / variances.sum() for v in cumulative_variances]\n",
    "\n",
    "# # Plot the cumulative variance explained\n",
    "# import matplotlib.pyplot as plt\n",
    "# plt.plot(k, cumulative_variances)\n",
    "# plt.xlabel('Number of features')\n",
    "# plt.ylabel('Cumulative variance explained')\n",
    "# plt.show()\n"
   ]
  },
  {
   "cell_type": "code",
   "execution_count": 43,
   "metadata": {},
   "outputs": [],
   "source": [
    "from sklearn.feature_extraction.text import CountVectorizer\n",
    "cv = CountVectorizer(max_features=21000,stop_words='english')"
   ]
  },
  {
   "cell_type": "code",
   "execution_count": 44,
   "metadata": {},
   "outputs": [],
   "source": [
    "vector = cv.fit_transform(new_df['tags']).toarray()"
   ]
  },
  {
   "cell_type": "code",
   "execution_count": 45,
   "metadata": {},
   "outputs": [
    {
     "data": {
      "text/plain": [
       "array([0, 0, 0, ..., 0, 0, 0], dtype=int64)"
      ]
     },
     "execution_count": 45,
     "metadata": {},
     "output_type": "execute_result"
    }
   ],
   "source": [
    "vector[0]"
   ]
  },
  {
   "cell_type": "code",
   "execution_count": 46,
   "metadata": {},
   "outputs": [
    {
     "data": {
      "text/plain": [
       "(24722, 21000)"
      ]
     },
     "execution_count": 46,
     "metadata": {},
     "output_type": "execute_result"
    }
   ],
   "source": [
    "vector.shape"
   ]
  },
  {
   "cell_type": "code",
   "execution_count": 47,
   "metadata": {},
   "outputs": [],
   "source": [
    "# len(cv.get_feature_names())"
   ]
  },
  {
   "cell_type": "markdown",
   "metadata": {
    "id": "3ppei4nkxsR2"
   },
   "source": [
    "Converting the text data to feature vectors"
   ]
  },
  {
   "cell_type": "code",
   "execution_count": 48,
   "metadata": {
    "colab": {
     "base_uri": "https://localhost:8080/"
    },
    "id": "0HYa631OuVsJ",
    "outputId": "4fd9e88d-f8f4-4c35-a9a8-7e965a6b9ab9"
   },
   "outputs": [],
   "source": [
    "# vectorizer = TfidfVectorizer()\n",
    "# feature_vectors = vectorizer.fit_transform(combined_features)\n",
    "# print(feature_vectors)"
   ]
  },
  {
   "cell_type": "markdown",
   "metadata": {
    "id": "NGHd5BS5yJif"
   },
   "source": [
    "Getting the similarity scores using cosine similarity"
   ]
  },
  {
   "cell_type": "code",
   "execution_count": 47,
   "metadata": {
    "colab": {
     "base_uri": "https://localhost:8080/"
    },
    "id": "XVQZjSsiuc56",
    "outputId": "e7bdd281-9beb-49d9-bbdc-75e6e5f21d45"
   },
   "outputs": [
    {
     "name": "stdout",
     "output_type": "stream",
     "text": [
      "[[1.         0.04724556 0.14173668 ... 0.         0.0433555  0.10101525]\n",
      " [0.04724556 1.         0.0625     ... 0.         0.05735393 0.        ]\n",
      " [0.14173668 0.0625     1.         ... 0.         0.         0.13363062]\n",
      " ...\n",
      " [0.         0.         0.         ... 1.         0.09365858 0.        ]\n",
      " [0.0433555  0.05735393 0.         ... 0.09365858 1.         0.        ]\n",
      " [0.10101525 0.         0.13363062 ... 0.         0.         1.        ]]\n",
      "(24722, 24722)\n"
     ]
    }
   ],
   "source": [
    "from sklearn.metrics.pairwise import cosine_similarity \n",
    "similarity = cosine_similarity(vector)\n",
    "print(similarity)\n",
    "print(similarity.shape)"
   ]
  },
  {
   "cell_type": "code",
   "execution_count": 48,
   "metadata": {},
   "outputs": [
    {
     "data": {
      "text/plain": [
       "(24722, 24722)"
      ]
     },
     "execution_count": 48,
     "metadata": {},
     "output_type": "execute_result"
    }
   ],
   "source": [
    "similarity.shape"
   ]
  },
  {
   "cell_type": "markdown",
   "metadata": {
    "id": "f74O3VMZyNe9"
   },
   "source": [
    "Getting the movie name from the user"
   ]
  },
  {
   "cell_type": "code",
   "execution_count": 49,
   "metadata": {},
   "outputs": [],
   "source": [
    "def recommend(movie_name):\n",
    "    index = new_df[new_df['title'] == movie_name].index[0]\n",
    "    distances = sorted(list(enumerate(similarity[index])),reverse=True,key = lambda x: x[1])\n",
    "    for i in distances[1:6]:\n",
    "        print(new_df.iloc[i[0]].title)"
   ]
  },
  {
   "cell_type": "code",
   "execution_count": 50,
   "metadata": {
    "colab": {
     "base_uri": "https://localhost:8080/"
    },
    "id": "KTaoqjUBuqdW",
    "outputId": "2245d3bc-833d-4e55-d21b-393b66b6da11"
   },
   "outputs": [
    {
     "name": "stdout",
     "output_type": "stream",
     "text": [
      " Enter your favourite movie name : Iron Man\n"
     ]
    }
   ],
   "source": [
    "movie_name = input(' Enter your favourite movie name : ')"
   ]
  },
  {
   "cell_type": "code",
   "execution_count": 51,
   "metadata": {},
   "outputs": [
    {
     "name": "stdout",
     "output_type": "stream",
     "text": [
      "Thor: The Dark World\n",
      "Doctor Strange in the Multiverse of Madness\n",
      "Guardians of the Galaxy Vol. 2\n",
      "Black Panther\n",
      "Shang-Chi and the Legend of the Ten Rings\n"
     ]
    }
   ],
   "source": [
    "recommend(movie_name)"
   ]
  },
  {
   "cell_type": "code",
   "execution_count": 52,
   "metadata": {},
   "outputs": [],
   "source": [
    "import pickle"
   ]
  },
  {
   "cell_type": "code",
   "execution_count": 53,
   "metadata": {},
   "outputs": [],
   "source": [
    "pickle.dump(new_df,open('artifacts/movie_list.pkl','wb'))\n",
    "pickle.dump(similarity,open('artifacts/similarity.pkl','wb'))"
   ]
  },
  {
   "cell_type": "markdown",
   "metadata": {
    "id": "jSe8gIQIyRuN"
   },
   "source": [
    "Creating a list with all the movie names given in the dataset"
   ]
  },
  {
   "cell_type": "code",
   "execution_count": 139,
   "metadata": {
    "colab": {
     "base_uri": "https://localhost:8080/"
    },
    "id": "sitV-rxGuxRi",
    "outputId": "72aaab67-6a51-47b6-b5c1-6666ecf0be0c"
   },
   "outputs": [
    {
     "name": "stderr",
     "output_type": "stream",
     "text": [
      "IOPub data rate exceeded.\n",
      "The notebook server will temporarily stop sending output\n",
      "to the client in order to avoid crashing it.\n",
      "To change this limit, set the config variable\n",
      "`--NotebookApp.iopub_data_rate_limit`.\n",
      "\n",
      "Current values:\n",
      "NotebookApp.iopub_data_rate_limit=1000000.0 (bytes/sec)\n",
      "NotebookApp.rate_limit_window=3.0 (secs)\n",
      "\n"
     ]
    }
   ],
   "source": [
    "# list_of_all_titles = movies_data['title'].tolist()\n",
    "# print(list_of_all_titles)"
   ]
  },
  {
   "cell_type": "markdown",
   "metadata": {
    "id": "mcMe5CzgyWny"
   },
   "source": [
    "Finding the close match for the movie name given by the user"
   ]
  },
  {
   "cell_type": "code",
   "execution_count": 140,
   "metadata": {
    "colab": {
     "base_uri": "https://localhost:8080/"
    },
    "id": "W0hPcyMIu03u",
    "outputId": "ba93a6f7-66a8-43f2-8428-735b08313c9b"
   },
   "outputs": [
    {
     "ename": "TypeError",
     "evalue": "object of type 'float' has no len()",
     "output_type": "error",
     "traceback": [
      "\u001b[1;31m---------------------------------------------------------------------------\u001b[0m",
      "\u001b[1;31mTypeError\u001b[0m                                 Traceback (most recent call last)",
      "Input \u001b[1;32mIn [140]\u001b[0m, in \u001b[0;36m<cell line: 1>\u001b[1;34m()\u001b[0m\n\u001b[1;32m----> 1\u001b[0m find_close_match \u001b[38;5;241m=\u001b[39m \u001b[43mdifflib\u001b[49m\u001b[38;5;241;43m.\u001b[39;49m\u001b[43mget_close_matches\u001b[49m\u001b[43m(\u001b[49m\u001b[43mmovie_name\u001b[49m\u001b[43m,\u001b[49m\u001b[43m \u001b[49m\u001b[43mlist_of_all_titles\u001b[49m\u001b[43m)\u001b[49m\n\u001b[0;32m      2\u001b[0m \u001b[38;5;28mprint\u001b[39m(find_close_match)\n",
      "File \u001b[1;32m~\\AppData\\Local\\Programs\\Python\\Python310\\lib\\difflib.py:704\u001b[0m, in \u001b[0;36mget_close_matches\u001b[1;34m(word, possibilities, n, cutoff)\u001b[0m\n\u001b[0;32m    702\u001b[0m \u001b[38;5;28;01mfor\u001b[39;00m x \u001b[38;5;129;01min\u001b[39;00m possibilities:\n\u001b[0;32m    703\u001b[0m     s\u001b[38;5;241m.\u001b[39mset_seq1(x)\n\u001b[1;32m--> 704\u001b[0m     \u001b[38;5;28;01mif\u001b[39;00m \u001b[43ms\u001b[49m\u001b[38;5;241;43m.\u001b[39;49m\u001b[43mreal_quick_ratio\u001b[49m\u001b[43m(\u001b[49m\u001b[43m)\u001b[49m \u001b[38;5;241m>\u001b[39m\u001b[38;5;241m=\u001b[39m cutoff \u001b[38;5;129;01mand\u001b[39;00m \\\n\u001b[0;32m    705\u001b[0m        s\u001b[38;5;241m.\u001b[39mquick_ratio() \u001b[38;5;241m>\u001b[39m\u001b[38;5;241m=\u001b[39m cutoff \u001b[38;5;129;01mand\u001b[39;00m \\\n\u001b[0;32m    706\u001b[0m        s\u001b[38;5;241m.\u001b[39mratio() \u001b[38;5;241m>\u001b[39m\u001b[38;5;241m=\u001b[39m cutoff:\n\u001b[0;32m    707\u001b[0m         result\u001b[38;5;241m.\u001b[39mappend((s\u001b[38;5;241m.\u001b[39mratio(), x))\n\u001b[0;32m    709\u001b[0m \u001b[38;5;66;03m# Move the best scorers to head of list\u001b[39;00m\n",
      "File \u001b[1;32m~\\AppData\\Local\\Programs\\Python\\Python310\\lib\\difflib.py:658\u001b[0m, in \u001b[0;36mSequenceMatcher.real_quick_ratio\u001b[1;34m(self)\u001b[0m\n\u001b[0;32m    651\u001b[0m \u001b[38;5;28;01mdef\u001b[39;00m \u001b[38;5;21mreal_quick_ratio\u001b[39m(\u001b[38;5;28mself\u001b[39m):\n\u001b[0;32m    652\u001b[0m     \u001b[38;5;124;03m\"\"\"Return an upper bound on ratio() very quickly.\u001b[39;00m\n\u001b[0;32m    653\u001b[0m \n\u001b[0;32m    654\u001b[0m \u001b[38;5;124;03m    This isn't defined beyond that it is an upper bound on .ratio(), and\u001b[39;00m\n\u001b[0;32m    655\u001b[0m \u001b[38;5;124;03m    is faster to compute than either .ratio() or .quick_ratio().\u001b[39;00m\n\u001b[0;32m    656\u001b[0m \u001b[38;5;124;03m    \"\"\"\u001b[39;00m\n\u001b[1;32m--> 658\u001b[0m     la, lb \u001b[38;5;241m=\u001b[39m \u001b[38;5;28;43mlen\u001b[39;49m\u001b[43m(\u001b[49m\u001b[38;5;28;43mself\u001b[39;49m\u001b[38;5;241;43m.\u001b[39;49m\u001b[43ma\u001b[49m\u001b[43m)\u001b[49m, \u001b[38;5;28mlen\u001b[39m(\u001b[38;5;28mself\u001b[39m\u001b[38;5;241m.\u001b[39mb)\n\u001b[0;32m    659\u001b[0m     \u001b[38;5;66;03m# can't have more matches than the number of elements in the\u001b[39;00m\n\u001b[0;32m    660\u001b[0m     \u001b[38;5;66;03m# shorter sequence\u001b[39;00m\n\u001b[0;32m    661\u001b[0m     \u001b[38;5;28;01mreturn\u001b[39;00m _calculate_ratio(\u001b[38;5;28mmin\u001b[39m(la, lb), la \u001b[38;5;241m+\u001b[39m lb)\n",
      "\u001b[1;31mTypeError\u001b[0m: object of type 'float' has no len()"
     ]
    }
   ],
   "source": [
    "# find_close_match = difflib.get_close_matches(movie_name, list_of_all_titles)\n",
    "# print(find_close_match)"
   ]
  },
  {
   "cell_type": "code",
   "execution_count": null,
   "metadata": {
    "colab": {
     "base_uri": "https://localhost:8080/"
    },
    "id": "ozGYF-W_u464",
    "outputId": "ccd0d6fe-4d95-48d5-ccc5-af89f45643dd"
   },
   "outputs": [],
   "source": [
    "# close_match = find_close_match[0]\n",
    "# print(close_match)"
   ]
  },
  {
   "cell_type": "markdown",
   "metadata": {
    "id": "BIRi5S0azi7j"
   },
   "source": [
    "Finding the index of the movie with title"
   ]
  },
  {
   "cell_type": "code",
   "execution_count": null,
   "metadata": {
    "colab": {
     "base_uri": "https://localhost:8080/"
    },
    "id": "QJPB-s-Du7F1",
    "outputId": "bd38c057-30ad-4f0c-b6c3-e392adaded76"
   },
   "outputs": [],
   "source": [
    "# index_of_the_movie = movies_data[movies_data.title == close_match]['Unnamed: 0'].values[0]\n",
    "# print(index_of_the_movie)"
   ]
  },
  {
   "cell_type": "markdown",
   "metadata": {
    "id": "Y_w--W-1zmZN"
   },
   "source": [
    "Getting a list of similar movies"
   ]
  },
  {
   "cell_type": "code",
   "execution_count": null,
   "metadata": {
    "colab": {
     "base_uri": "https://localhost:8080/"
    },
    "id": "z9y2HJrGwgGy",
    "outputId": "5ea40243-abe5-45c9-d885-e9257b7e04e4"
   },
   "outputs": [],
   "source": [
    "# similarity_score = list(enumerate(similarity[index_of_the_movie]))\n",
    "# print(similarity_score)"
   ]
  },
  {
   "cell_type": "markdown",
   "metadata": {
    "id": "KYIogYPyz5xe"
   },
   "source": [
    "Sorting the movies based on their similarity score"
   ]
  },
  {
   "cell_type": "code",
   "execution_count": null,
   "metadata": {
    "colab": {
     "base_uri": "https://localhost:8080/"
    },
    "id": "vMhoY1jGwiCv",
    "outputId": "43f00b34-090e-47dc-fcb4-5216633a947f"
   },
   "outputs": [],
   "source": [
    "# sorted_similar_movies = sorted(similarity_score, key = lambda x:x[1], reverse = True) \n",
    "# print(sorted_similar_movies)"
   ]
  },
  {
   "cell_type": "markdown",
   "metadata": {
    "id": "-O4tASqOz9V6"
   },
   "source": [
    "Print the name of similar movies based on the index"
   ]
  },
  {
   "cell_type": "code",
   "execution_count": null,
   "metadata": {
    "colab": {
     "base_uri": "https://localhost:8080/"
    },
    "id": "-REDRb2WwlKx",
    "outputId": "f375a6c4-6491-4016-dba0-aca25d4b3cc9"
   },
   "outputs": [],
   "source": [
    "# print('Movies suggested for you : \\n')\n",
    "\n",
    "# i = 1\n",
    "\n",
    "# for movie in sorted_similar_movies:\n",
    "#   index = movie[0]\n",
    "#   title_from_index = movies_data[movies_data.index==index]['title'].values[0]\n",
    "#   if (i<30):\n",
    "#     print(i, '.',title_from_index)\n",
    "#     i+=1"
   ]
  },
  {
   "cell_type": "code",
   "execution_count": null,
   "metadata": {
    "id": "G0bLxkrrxDkO"
   },
   "outputs": [],
   "source": []
  }
 ],
 "metadata": {
  "colab": {
   "provenance": []
  },
  "kernelspec": {
   "display_name": "Python 3 (ipykernel)",
   "language": "python",
   "name": "python3"
  },
  "language_info": {
   "codemirror_mode": {
    "name": "ipython",
    "version": 3
   },
   "file_extension": ".py",
   "mimetype": "text/x-python",
   "name": "python",
   "nbconvert_exporter": "python",
   "pygments_lexer": "ipython3",
   "version": "3.10.1"
  }
 },
 "nbformat": 4,
 "nbformat_minor": 1
}
